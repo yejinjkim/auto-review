{
 "cells": [
  {
   "cell_type": "code",
   "execution_count": 10,
   "metadata": {},
   "outputs": [],
   "source": [
    "import pandas as pd\n",
    "from sklearn.model_selection import train_test_split\n"
   ]
  },
  {
   "cell_type": "code",
   "execution_count": 6,
   "metadata": {},
   "outputs": [],
   "source": [
    "#path information\n",
    "task='task1'# or 'task2' # specify task\n",
    "root_path='/repo1/code/autoreview/'\n",
    "data_path=root_path+'data/'+task+'/'#path to save retrieved articles abstract\n",
    "keyword_path=data_path+'keywords/'#keyword list\n",
    "articles_name='articles.xlsx'\n",
    "save_path=root_path+'results/'+task+'/'"
   ]
  },
  {
   "cell_type": "code",
   "execution_count": null,
   "metadata": {},
   "outputs": [],
   "source": [
    "args={'model_name': '',\n",
    "      'hidden_size': '',\n",
    "      'dropout':'',\n",
    "      'batch_size': '',\n",
    "     #add more args as wish\n",
    "}"
   ]
  },
  {
   "cell_type": "code",
   "execution_count": null,
   "metadata": {},
   "outputs": [],
   "source": [
    "def rank_sentences(args):\n",
    "    \"\"\"\n",
    "    Rank sentences based on pseudo labels. \n",
    "    \n",
    "    input\n",
    "        sentences: sentences data with header of ['pid', 'title', 'sent', 'label', 'prob']\n",
    "        'pid'= paper id; 'sent'=sentence ; 'label'=1 if relevant; 'label'=0 if irrelevant; 'label'=-1 if unknown\n",
    "    output\n",
    "        save result to tsv file\n",
    "        \n",
    "    \"\"\"\n",
    "    \n",
    "    sentences = pd.read_csv(save_path+'pseudo-label.tsv', sep='\\t')\n",
    "    labeled=sentences.loc[sentences['label']==1]\n",
    "    test=sentences.loc[sentences['label']==-1]\n",
    "    train,val=train_test_split(labeled, test_size=0.2)\n",
    "\n",
    "    ### sentence ranking\n",
    "    ### refined from https://github.com/yejinjkim/kaggle-covid19-literature/blob/master/sentence-classification/bert_classification.ipynb\n",
    "    \n",
    "    \n",
    "    \n",
    "    \n",
    "    \n",
    "    ### Save ranking result as tsv file\n",
    "    assert len(ranked_sentence)==len(sentences) #ranked_sentence contains labeled and unlabelled senteces \n",
    "    assert ranked_sentence.columns==['pid', 'title', 'sent', 'label','prob','ranking_score'] # add one column for ranking scores\n",
    "    ranked_sentence.to_csv(save_path+'ranking.tsv', sep='\\t', index=False)\n",
    "    \n",
    "    "
   ]
  }
 ],
 "metadata": {
  "kernelspec": {
   "display_name": "Python 3",
   "language": "python",
   "name": "python3"
  },
  "language_info": {
   "codemirror_mode": {
    "name": "ipython",
    "version": 3
   },
   "file_extension": ".py",
   "mimetype": "text/x-python",
   "name": "python",
   "nbconvert_exporter": "python",
   "pygments_lexer": "ipython3",
   "version": "3.7.6"
  }
 },
 "nbformat": 4,
 "nbformat_minor": 4
}
